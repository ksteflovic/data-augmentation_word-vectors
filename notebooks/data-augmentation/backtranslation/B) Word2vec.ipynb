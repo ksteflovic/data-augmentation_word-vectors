{
 "cells": [
  {
   "cell_type": "markdown",
   "source": [
    "# Word2Vec training"
   ],
   "metadata": {
    "collapsed": false
   }
  },
  {
   "cell_type": "markdown",
   "source": [
    "## Lib import"
   ],
   "metadata": {
    "collapsed": false
   }
  },
  {
   "cell_type": "code",
   "execution_count": 20,
   "outputs": [
    {
     "name": "stderr",
     "output_type": "stream",
     "text": [
      "[nltk_data] Downloading package punkt to\n",
      "[nltk_data]     C:\\Users\\stefi\\AppData\\Roaming\\nltk_data...\n",
      "[nltk_data]   Package punkt is already up-to-date!\n"
     ]
    }
   ],
   "source": [
    "import logging\n",
    "import pickle\n",
    "import time\n",
    "from statistics import mean, median\n",
    "\n",
    "import nltk\n",
    "\n",
    "from gensim.models import Word2Vec\n",
    "from gensim.models import KeyedVectors\n",
    "\n",
    "\n",
    "from nltk.corpus import stopwords\n",
    "stop_words = stopwords.words('english')\n",
    "\n",
    "from nltk.stem import WordNetLemmatizer\n",
    "lemmatizer = WordNetLemmatizer()\n",
    "nltk.download('punkt')\n",
    "\n",
    "logging.basicConfig(format=\"%(message)s\")\n",
    "logger = logging.getLogger()"
   ],
   "metadata": {
    "collapsed": false,
    "ExecuteTime": {
     "start_time": "2023-04-21T17:45:20.293995Z",
     "end_time": "2023-04-21T17:45:20.310951Z"
    }
   }
  },
  {
   "cell_type": "markdown",
   "source": [
    "## 3rd Step - Data load"
   ],
   "metadata": {
    "collapsed": false
   }
  },
  {
   "cell_type": "code",
   "execution_count": 21,
   "outputs": [],
   "source": [
    "#Vytvorenie vektorov pre NEUPRAVENÉ VETY = 0\n",
    "#Vytvorenie vektorov pre UPRAVENÉ VETY (bez stop slov) = 1\n",
    "\n",
    "file = 1\n",
    "if file == 0:\n",
    "    file = \"sentences\"\n",
    "else:\n",
    "    file = \"sentences_new\""
   ],
   "metadata": {
    "collapsed": false,
    "ExecuteTime": {
     "start_time": "2023-04-21T17:45:20.314939Z",
     "end_time": "2023-04-21T17:45:20.354860Z"
    }
   }
  },
  {
   "cell_type": "code",
   "execution_count": 22,
   "outputs": [],
   "source": [
    "#Načítanie viet\n",
    "with open(\"files/\"+file, \"rb\") as fp:   # Unpickling\n",
    "    sentences = pickle.load(fp)"
   ],
   "metadata": {
    "collapsed": false,
    "ExecuteTime": {
     "start_time": "2023-04-21T17:45:20.327905Z",
     "end_time": "2023-04-21T17:45:20.363808Z"
    }
   }
  },
  {
   "cell_type": "code",
   "execution_count": 23,
   "outputs": [],
   "source": [
    "dimension_size = 150\n",
    "window_size = 7\n",
    "model = 1  # Skipgram = 1, CBOW = 0\n",
    "\n",
    "# ZOSTÁVAME PRI SKIPGRAM\n",
    "\n",
    "\n",
    "embeddings_index = dict()\n",
    "\n",
    "start = time.time()\n",
    "#Tréning slovných vektorov\n",
    "\n",
    "word2vec = Word2Vec(\n",
    "    sentences,\n",
    "    min_count=1,                      # Ignorovať slová, ktoré sa v korpuse nachádzajú menej ako min_count\n",
    "    vector_size=dimension_size,       # Veľkosť dimenzie výsledných slovných vektorov\n",
    "    sg = model,                       # Skipgram = 1, CBOW = 0\n",
    "    epochs=15,\n",
    "    window=window_size,               # Počeť kontextových slov\n",
    "    workers=6,\n",
    "    seed=7)\n",
    "\n",
    "words = set(word2vec.wv.index_to_key)\n",
    "for word in words:\n",
    "    embeddings_index[word] = word2vec.wv[word]\n",
    "\n",
    "end = time.time()"
   ],
   "metadata": {
    "collapsed": false,
    "ExecuteTime": {
     "start_time": "2023-04-21T17:45:20.426643Z",
     "end_time": "2023-04-21T17:45:23.369051Z"
    }
   }
  },
  {
   "cell_type": "code",
   "execution_count": 24,
   "outputs": [
    {
     "name": "stdout",
     "output_type": "stream",
     "text": [
      "Count of words: 15941 , training time: 2.9922432899475098\n"
     ]
    }
   ],
   "source": [
    "print(\"Count of words:\",len(word2vec.wv),\", training time:\",(end-start))"
   ],
   "metadata": {
    "collapsed": false,
    "ExecuteTime": {
     "start_time": "2023-04-21T17:45:23.370048Z",
     "end_time": "2023-04-21T17:45:23.388032Z"
    }
   }
  },
  {
   "cell_type": "markdown",
   "source": [
    "### 3.1 Step - Saving to *.bin* file"
   ],
   "metadata": {
    "collapsed": false
   }
  },
  {
   "cell_type": "code",
   "execution_count": 25,
   "outputs": [
    {
     "name": "stderr",
     "output_type": "stream",
     "text": [
      "attribute count not present in KeyedVectors<vector_size=150, 15941 keys>; will store in internal index_to_key order\n"
     ]
    }
   ],
   "source": [
    "# konvertovanie slovníka do formátu KeyedVectors\n",
    "kv = KeyedVectors(vector_size=dimension_size)\n",
    "kv.add_vectors(list(embeddings_index.keys()), list(embeddings_index.values()))\n",
    "\n",
    "# uloženie slovníka do binárneho súboru\n",
    "a = \"CBOW\" if model == 0 else \"SKIPGRAM\"\n",
    "\n",
    "kv.save_word2vec_format(\"files/model_\"+a+\"_\"+\"dim_\"+str(dimension_size)+\"_\"+time.strftime(\"%Y%m%d%H%M\")+\"_\"+file+\".bin\", binary=True)"
   ],
   "metadata": {
    "collapsed": false,
    "ExecuteTime": {
     "start_time": "2023-04-21T17:45:23.388032Z",
     "end_time": "2023-04-21T17:45:23.477820Z"
    }
   }
  }
 ],
 "metadata": {
  "kernelspec": {
   "display_name": "Python 3",
   "language": "python",
   "name": "python3"
  },
  "language_info": {
   "codemirror_mode": {
    "name": "ipython",
    "version": 2
   },
   "file_extension": ".py",
   "mimetype": "text/x-python",
   "name": "python",
   "nbconvert_exporter": "python",
   "pygments_lexer": "ipython2",
   "version": "2.7.6"
  }
 },
 "nbformat": 4,
 "nbformat_minor": 0
}
