{
 "cells": [
  {
   "cell_type": "code",
   "execution_count": 19,
   "metadata": {
    "ExecuteTime": {
     "start_time": "2023-04-22T02:02:35.200190Z",
     "end_time": "2023-04-22T02:02:36.073853Z"
    }
   },
   "outputs": [
    {
     "ename": "ImportError",
     "evalue": "cannot import name 'Corpus' from 'glove' (C:\\Users\\stefi\\anaconda3\\lib\\site-packages\\glove\\__init__.py)",
     "output_type": "error",
     "traceback": [
      "\u001B[1;31m---------------------------------------------------------------------------\u001B[0m",
      "\u001B[1;31mImportError\u001B[0m                               Traceback (most recent call last)",
      "\u001B[1;32m~\\AppData\\Local\\Temp\\ipykernel_26768\\3995242036.py\u001B[0m in \u001B[0;36m<module>\u001B[1;34m\u001B[0m\n\u001B[0;32m     16\u001B[0m \u001B[1;32mimport\u001B[0m \u001B[0mstring\u001B[0m\u001B[1;33m\u001B[0m\u001B[1;33m\u001B[0m\u001B[0m\n\u001B[0;32m     17\u001B[0m \u001B[1;33m\u001B[0m\u001B[0m\n\u001B[1;32m---> 18\u001B[1;33m \u001B[1;32mfrom\u001B[0m \u001B[0mglove\u001B[0m \u001B[1;32mimport\u001B[0m \u001B[0mGlove\u001B[0m\u001B[1;33m,\u001B[0m \u001B[0mCorpus\u001B[0m\u001B[1;33m\u001B[0m\u001B[1;33m\u001B[0m\u001B[0m\n\u001B[0m\u001B[0;32m     19\u001B[0m \u001B[1;31m# from mittens import GloVe, Corpus\u001B[0m\u001B[1;33m\u001B[0m\u001B[1;33m\u001B[0m\u001B[1;33m\u001B[0m\u001B[0m\n\u001B[0;32m     20\u001B[0m \u001B[1;32mfrom\u001B[0m \u001B[0mgensim\u001B[0m\u001B[1;33m.\u001B[0m\u001B[0mmodels\u001B[0m \u001B[1;32mimport\u001B[0m \u001B[0mWord2Vec\u001B[0m\u001B[1;33m\u001B[0m\u001B[1;33m\u001B[0m\u001B[0m\n",
      "\u001B[1;31mImportError\u001B[0m: cannot import name 'Corpus' from 'glove' (C:\\Users\\stefi\\anaconda3\\lib\\site-packages\\glove\\__init__.py)"
     ]
    }
   ],
   "source": [
    "import logging\n",
    "import pickle\n",
    "import time\n",
    "from statistics import mean, median\n",
    "\n",
    "import en_core_web_sm\n",
    "import gensim.utils\n",
    "import gensim.models.keyedvectors\n",
    "import matplotlib.pyplot as plt\n",
    "import nltk\n",
    "import numpy as np\n",
    "import pandas as pd\n",
    "import re\n",
    "import seaborn as sns\n",
    "import spacy\n",
    "import string\n",
    "\n",
    "from glove import Glove, Corpus\n",
    "# from mittens import GloVe, Corpus\n",
    "from gensim.models import Word2Vec\n",
    "from gensim.models import KeyedVectors\n",
    "from imblearn.under_sampling import RandomUnderSampler\n",
    "from keras_preprocessing.sequence import pad_sequences\n",
    "\n",
    "from nltk.corpus import stopwords\n",
    "stop_words = stopwords.words('english')\n",
    "from nltk.corpus import wordnet\n",
    "from nltk.stem import WordNetLemmatizer\n",
    "lemmatizer = WordNetLemmatizer()\n",
    "from nltk.tokenize import word_tokenize, sent_tokenize\n",
    "\n",
    "from sklearn.metrics import accuracy_score, confusion_matrix, classification_report, f1_score, precision_score, recall_score\n",
    "from sklearn.model_selection import StratifiedKFold, train_test_split\n",
    "from sklearn.ensemble import RandomForestClassifier\n",
    "from sklearn import tree\n",
    "nltk.download('punkt')\n",
    "\n",
    "logging.basicConfig(format=\"%(message)s\")\n",
    "logger = logging.getLogger()"
   ]
  },
  {
   "cell_type": "markdown",
   "metadata": {},
   "source": [
    "# 5 - Model GloVe"
   ]
  },
  {
   "cell_type": "markdown",
   "metadata": {},
   "source": [
    "### 5.1 - Načítanie predspracovaných viet"
   ]
  },
  {
   "cell_type": "code",
   "execution_count": 11,
   "metadata": {
    "ExecuteTime": {
     "start_time": "2023-04-22T02:02:41.775266Z",
     "end_time": "2023-04-22T02:02:41.793218Z"
    }
   },
   "outputs": [],
   "source": [
    "#Vytvorenie vektorov pre NEUPRAVENÉ VETY = 0\n",
    "#Vytvorenie vektorov pre UPRAVENÉ VETY (o synonymá) = 1\n",
    "\n",
    "file = 0\n",
    "if file == 0:\n",
    "    file = \"sentences\"\n",
    "else:\n",
    "    file = \"sentences_new\""
   ]
  },
  {
   "cell_type": "code",
   "execution_count": 12,
   "metadata": {
    "ExecuteTime": {
     "start_time": "2023-04-22T02:02:42.529995Z",
     "end_time": "2023-04-22T02:02:42.575873Z"
    }
   },
   "outputs": [],
   "source": [
    "#Načítanie viet\n",
    "with open(\"files/\"+file, \"rb\") as fp:   # Unpickling\n",
    "    sentences = pickle.load(fp)"
   ]
  },
  {
   "cell_type": "markdown",
   "metadata": {},
   "source": [
    "### 5.2 - Vytvorenie slovných vektorov"
   ]
  },
  {
   "cell_type": "code",
   "execution_count": 14,
   "metadata": {},
   "outputs": [
    {
     "ename": "NameError",
     "evalue": "name 'Corpus' is not defined",
     "output_type": "error",
     "traceback": [
      "\u001B[1;31m---------------------------------------------------------------------------\u001B[0m",
      "\u001B[1;31mNameError\u001B[0m                                 Traceback (most recent call last)",
      "\u001B[1;32m~\\AppData\\Local\\Temp\\ipykernel_26768\\3635192401.py\u001B[0m in \u001B[0;36m<module>\u001B[1;34m\u001B[0m\n\u001B[0;32m      8\u001B[0m \u001B[1;31m#Tréning slovných vektorov\u001B[0m\u001B[1;33m\u001B[0m\u001B[1;33m\u001B[0m\u001B[1;33m\u001B[0m\u001B[0m\n\u001B[0;32m      9\u001B[0m \u001B[1;33m\u001B[0m\u001B[0m\n\u001B[1;32m---> 10\u001B[1;33m \u001B[0mcorpus\u001B[0m \u001B[1;33m=\u001B[0m \u001B[0mCorpus\u001B[0m\u001B[1;33m(\u001B[0m\u001B[1;33m)\u001B[0m\u001B[1;33m\u001B[0m\u001B[1;33m\u001B[0m\u001B[0m\n\u001B[0m\u001B[0;32m     11\u001B[0m \u001B[0mcorpus\u001B[0m\u001B[1;33m.\u001B[0m\u001B[0mfit\u001B[0m\u001B[1;33m(\u001B[0m\u001B[0msentences\u001B[0m\u001B[1;33m,\u001B[0m \u001B[0mwindow\u001B[0m\u001B[1;33m=\u001B[0m\u001B[0mwindow_size\u001B[0m\u001B[1;33m)\u001B[0m\u001B[1;33m\u001B[0m\u001B[1;33m\u001B[0m\u001B[0m\n\u001B[0;32m     12\u001B[0m glove = Glove(\n",
      "\u001B[1;31mNameError\u001B[0m: name 'Corpus' is not defined"
     ]
    }
   ],
   "source": [
    "dimension_size = 200\n",
    "window_size = 7\n",
    "\n",
    "\n",
    "embeddings_index = dict()\n",
    "\n",
    "start = time.time()\n",
    "#Tréning slovných vektorov\n",
    "\n",
    "corpus = Corpus()\n",
    "corpus.fit(sentences, window=window_size)\n",
    "glove = Glove(\n",
    "            no_components=dimension_size,      # Veľkosť dimenzie výsledných slovných vektorov\n",
    "            learning_rate=0.05)                # Rýchlosť učenia\n",
    "glove.fit(corpus.matrix, epochs=30, no_threads=4)\n",
    "glove.add_dictionary(corpus.dictionary)\n",
    "\n",
    "words = set(list(glove.dictionary.keys()))\n",
    "for word in words:\n",
    "    embeddings_index[word] = glove.word_vectors[glove.dictionary[word]]\n",
    "    \n",
    "end = time.time()"
   ]
  },
  {
   "cell_type": "code",
   "execution_count": 5,
   "metadata": {},
   "outputs": [
    {
     "name": "stdout",
     "output_type": "stream",
     "text": [
      "Count of words: 25735 , training time: 33.24569869041443\n"
     ]
    }
   ],
   "source": [
    "print(\"Count of words:\",len(words),\", training time:\",(end-start))"
   ]
  },
  {
   "cell_type": "markdown",
   "metadata": {},
   "source": [
    "### 5.3 - Uloženie vektorov do BIN súboru"
   ]
  },
  {
   "cell_type": "code",
   "execution_count": 6,
   "metadata": {},
   "outputs": [
    {
     "name": "stderr",
     "output_type": "stream",
     "text": [
      "attribute count not present in KeyedVectors<vector_size=200, 25735 keys>; will store in internal index_to_key order\n"
     ]
    }
   ],
   "source": [
    "# konvertovanie slovníka do formátu KeyedVectors\n",
    "kv = KeyedVectors(vector_size=dimension_size)\n",
    "kv.add_vectors(list(embeddings_index.keys()), list(embeddings_index.values()))\n",
    "\n",
    "# uloženie slovníka do binárneho súboru\n",
    "kv.save_word2vec_format(\"files/model_GloVe_\"+\"dim_\"+str(dimension_size)+\"_\"+time.strftime(\"%Y%m%d%H%M\")+\"_\"+file+\".bin\", binary=True)"
   ]
  },
  {
   "cell_type": "code",
   "execution_count": null,
   "metadata": {},
   "outputs": [],
   "source": []
  }
 ],
 "metadata": {
  "kernelspec": {
   "display_name": "Python 3 (ipykernel)",
   "language": "python",
   "name": "python3"
  },
  "language_info": {
   "codemirror_mode": {
    "name": "ipython",
    "version": 3
   },
   "file_extension": ".py",
   "mimetype": "text/x-python",
   "name": "python",
   "nbconvert_exporter": "python",
   "pygments_lexer": "ipython3",
   "version": "3.9.13"
  }
 },
 "nbformat": 4,
 "nbformat_minor": 4
}
